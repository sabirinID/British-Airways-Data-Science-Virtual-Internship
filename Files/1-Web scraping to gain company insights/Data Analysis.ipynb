{
 "cells": [
  {
   "cell_type": "markdown",
   "metadata": {},
   "source": [
    "# Data Analysis\n",
    "\n",
    "---\n",
    "\n",
    "## Data Cleaning\n",
    "\n",
    "First, we'll need to preprocess and clean the textual data. Textual data often contains noise in various forms like punctuation, special characters, numbers, and stop words that might not be useful for analysis.\n",
    "\n",
    "### Tokenization\n",
    "\n",
    "This is the process of breaking down the text into individual words (tokens)."
   ]
  },
  {
   "cell_type": "code",
   "execution_count": 63,
   "metadata": {},
   "outputs": [
    {
     "name": "stdout",
     "output_type": "stream",
     "text": [
      "                                             reviews\n",
      "0  ✅ Trip Verified |  4 Hours before takeoff we r...\n",
      "1  ✅ Trip Verified |  I recently had a delay on B...\n",
      "2  Not Verified |  Boarded on time, but it took a...\n",
      "3  ✅ Trip Verified |  5 days before the flight, w...\n",
      "4  Not Verified |  \\nWe traveled to Lisbon for ou...\n",
      "5  ✅ Trip Verified |  Booked a flight from Buchar...\n",
      "6  ✅ Trip Verified |  Booked online months ago an...\n",
      "7  ✅ Trip Verified |  The flight was on time. The...\n",
      "8  Not Verified |  Angry, disappointed, and unsat...\n",
      "9  ✅ Trip Verified |  As an infrequent flyer, Bri...\n"
     ]
    }
   ],
   "source": [
    "import pandas as pd\n",
    "\n",
    "# Load the dataset from the provided URL\n",
    "link = \"https://raw.githubusercontent.com/sabirinID/British-Airways-Data-Science-Virtual-Internship/main/Files/1-Web%20scraping%20to%20gain%20company%20insights/data/BA_reviews.csv\"\n",
    "data = pd.read_csv(link, index_col=0)\n",
    "\n",
    "# Print the first 10 reviews\n",
    "print(data.head(10))"
   ]
  },
  {
   "cell_type": "code",
   "execution_count": 64,
   "metadata": {},
   "outputs": [
    {
     "name": "stdout",
     "output_type": "stream",
     "text": [
      "                                             reviews\n",
      "0   4 Hours before takeoff we received a Mail sta...\n",
      "1   I recently had a delay on British Airways fro...\n",
      "2   Boarded on time, but it took ages to get to t...\n",
      "3   5 days before the flight, we were advised by ...\n",
      "4   We traveled to Lisbon for our dream vacation,...\n",
      "5   Booked a flight from Bucharest to Manchester ...\n",
      "6   Booked online months ago and the only hitch w...\n",
      "7   The flight was on time. The crew were polite....\n",
      "8   Angry, disappointed, and unsatisfied. My rout...\n",
      "9   As an infrequent flyer, British Airways was a...\n"
     ]
    }
   ],
   "source": [
    "# Define a list of strings to replace in the 'reviews' column\n",
    "strings_to_replace = [\n",
    "   \"✅ Trip Verified | \",\n",
    "   \"Not Verified | \",\n",
    "   \"\\n\",\n",
    "   \"\\t\"\n",
    "   ]\n",
    "\n",
    "# Loop through the list and replace each string with an empty string\n",
    "for s in strings_to_replace:\n",
    "   data['reviews'] = data['reviews'].str.replace(s, \"\", regex=False)\n",
    "\n",
    "# Print the first 10 reviews after cleaning\n",
    "print(data.head(10))"
   ]
  },
  {
   "cell_type": "code",
   "execution_count": 65,
   "metadata": {},
   "outputs": [],
   "source": [
    "# pip install nltk"
   ]
  },
  {
   "cell_type": "code",
   "execution_count": 66,
   "metadata": {},
   "outputs": [
    {
     "name": "stderr",
     "output_type": "stream",
     "text": [
      "[nltk_data] Downloading package punkt to\n",
      "[nltk_data]     C:\\Users\\ASUS\\AppData\\Roaming\\nltk_data...\n",
      "[nltk_data]   Package punkt is already up-to-date!\n"
     ]
    },
    {
     "name": "stdout",
     "output_type": "stream",
     "text": [
      "0    [4, Hours, before, takeoff, we, received, a, M...\n",
      "1    [I, recently, had, a, delay, on, British, Airw...\n",
      "2    [Boarded, on, time, ,, but, it, took, ages, to...\n",
      "3    [5, days, before, the, flight, ,, we, were, ad...\n",
      "4    [We, traveled, to, Lisbon, for, our, dream, va...\n",
      "5    [Booked, a, flight, from, Bucharest, to, Manch...\n",
      "6    [Booked, online, months, ago, and, the, only, ...\n",
      "7    [The, flight, was, on, time, ., The, crew, wer...\n",
      "8    [Angry, ,, disappointed, ,, and, unsatisfied, ...\n",
      "9    [As, an, infrequent, flyer, ,, British, Airway...\n",
      "Name: reviews, dtype: object\n"
     ]
    }
   ],
   "source": [
    "import nltk\n",
    "\n",
    "# Download the 'punkt' resource for tokenizing text\n",
    "nltk.download('punkt')\n",
    "from nltk.tokenize import word_tokenize\n",
    "\n",
    "# Tokenize each row of the 'reviews' column\n",
    "tokens = data['reviews'].apply(word_tokenize)\n",
    "\n",
    "# Print the first 10 reviews after tokenization\n",
    "print(tokens.head(10))"
   ]
  },
  {
   "cell_type": "markdown",
   "metadata": {},
   "source": [
    "### Lowercasing\n",
    "\n",
    "Convert all the text to lower case. This avoids having multiple copies of the same words."
   ]
  },
  {
   "cell_type": "code",
   "execution_count": 67,
   "metadata": {},
   "outputs": [
    {
     "name": "stdout",
     "output_type": "stream",
     "text": [
      "[['4', 'hours', 'before', 'takeoff', 'we', 'received', 'a', 'mail', 'stating', 'a', 'cryptic', 'message', 'that', 'there', 'are', 'disruptions', 'to', 'be', 'expected', 'as', 'there', 'is', 'a', 'limit', 'on', 'how', 'many', 'planes', 'can', 'leave', 'at', 'the', 'same', 'time', '.', 'so', 'did', 'the', 'capacity', 'of', 'the', 'heathrow', 'airport', 'really', 'hit', 'british', 'airways', 'by', 'surprise', ',', '4h', 'before', 'departure', '?', 'anyhow', '-', 'we', 'took', 'the', 'one', 'hour', 'delay', 'so', 'what', '-', 'but', 'then', 'we', 'have', 'been', 'forced', 'to', 'check', 'in', 'our', 'hand', 'luggage', '.', 'i', 'travel', 'only', 'with', 'hand', 'luggage', 'to', 'avoid', 'waiting', 'for', 'the', 'ultra', 'slow', 'processing', 'of', 'the', 'checked', 'in', 'luggage', '.', 'overall', '2h', 'later', 'at', 'home', 'than', 'planed', ',', 'with', 'really', 'no', 'reason', ',', 'just', 'due', 'to', 'incompetent', 'people', '.', 'service', 'level', 'far', 'worse', 'then', 'ryanair', 'and', 'triple', 'the', 'price', '.', 'really', 'never', 'again', '.', 'thanks', 'for', 'nothing', '.'], ['i', 'recently', 'had', 'a', 'delay', 'on', 'british', 'airways', 'from', 'bru', 'to', 'lhr', 'that', 'was', 'due', 'to', 'staff', 'shortages', '.', 'they', 'announced', 'that', 'there', 'was', 'a', '2', 'hour', 'holding', 'delay', 'but', 'they', 'would', 'board', 'us', 'immediately', 'in', 'hopes', 'of', 'clearing', 'the', 'gate', 'and', 'leaving', 'early', '.', 'we', 'had', 'to', 'wait', 'the', 'full', '2', 'hours', 'inside', 'the', 'airplane', '.', 'the', 'plane', 'was', 'old', ',', 'dirty', ',', 'had', 'no', 'power', 'at', 'the', 'seats', '.', 'the', 'staff', 'provided', 'a', 'small', 'bag', 'of', 'pretzels', 'and', '250ml', 'of', 'water', 'to', 'the', 'passengers', 'for', '2', 'hour', 'delay', 'and', '2', 'hour', 'flight', '.', 'there', 'were', 'no', 'options', 'to', 'purchase', 'food', 'or', 'drink', '.', 'there', 'were', 'no', 'entertainment', 'options', 'available', '.', 'i', 'am', 'a', 'oneworld', 'emerald', 'elite', 'member', 'but', 'they', 'do', 'not', 'upgrade', 'members', 'based', 'on', 'status', '.', 'first', 'class', 'lounges', 'at', 'heathrow', 'are', 'overcrowded', ',', 'understaffed', 'and', 'poorly', 'equipped', '.', 'the', 'help', 'desk', 'is', 'completely', 'unhelpful', 'when', 'an', 'error', 'arises', 'with', 'delays', 'and', 'cancellations', '-', 'even', 'when', 'having', 'the', 'top', 'status', '.', 'the', 'avios', 'points', 'system', 'has', 'been', 'devalued', 'to', 'near', 'worthlessness', 'and', 'requires', 'fees', 'to', 'book', 'reward', 'that', 'nearly', 'equal', 'the', 'price', 'of', 'the', 'revenue', 'ticket', '.', 'british', 'has', 'lost', 'its', 'way', 'in', 'recent', 'years', 'and', 'has', 'a', 'moved', 'from', 'a', 'world-class', 'airline', 'to', 'a', 'budget', 'airline', 'with', 'much', 'worse', 'service', 'and', 'timeliness', 'than', 'ryanair', 'or', 'easyjet', '.'], ['boarded', 'on', 'time', ',', 'but', 'it', 'took', 'ages', 'to', 'get', 'to', 'the', 'runway', 'due', 'to', 'congestion', '.', 'flight', 'was', 'smooth', 'and', 'quick', '.', 'snack', 'and', 'drinks', 'were', 'good', 'for', 'a', 'short', 'flight', '.', 'landed', 'only', 'about', 'ten', 'minutes', 'late', '.', 'one', 'bag', 'of', 'three', 'left', 'in', 'london', ',', 'forms', 'quickly', 'filled', 'in', ',', 'and', 'the', 'bag', 'was', 'delivered', 'the', 'next', 'morning', '.'], ['5', 'days', 'before', 'the', 'flight', ',', 'we', 'were', 'advised', 'by', 'ba', 'that', 'it', 'had', 'been', 'cancelled', 'and', 'asked', 'us', 'to', 'rebook', '.', 'there', 'were', 'flights', '1', 'hour', 'before', 'and', '1', 'hour', 'after', 'our', 'original', 'flight', 'but', 'they', 'made', 'us', 'take', 'one', '3', 'hours', 'earlier', '.', 'our', 'original', 'ticket', '(', 'and', 'the', 'return', 'flight', 'a', 'week', 'later', ')', 'included', 'a', 'checked', 'bag', '.', 'when', 'we', 'arrive', 'at', 'heathrow', 'to', 'check', 'in', 'we', 'are', 'told', 'our', 'ticket', 'does', \"n't\", 'included', 'a', 'bag', 'and', 'we', 'will', 'have', 'to', 'pay', '75', 'pounds', 'each', 'to', 'take', 'them', '.', 'we', 'explained', 'that', 'the', 'original', 'ticket', 'had', 'the', 'bags', 'and', 'when', 'they', 'checked', 'the', 'system', 'they', 'confirmed', 'that', 'it', 'did-', 'but', 'not', 'this', 'one', '!', 'they', 'would', 'make', 'no', 'effort', 'to', 'sort', 'it', 'out', 'and', 'just', 'told', 'us', 'to', 'pay', 'up', 'or', 'they', 'would', 'remove', 'us', 'from', 'the', 'flight', '.', 'so', 'we', 'had', 'no', 'choice', 'but', 'to', 'pay', 'up', ',', 'thinking', 'it', 'should', 'be', 'pretty', 'easy', 'to', 'get', 'a', 'refund', '.', '15', 'months', 'and', '10', 'emails', 'later', 'we', 'have', 'still', 'not', 'seen', 'a', 'penny', '.', 'every', 'time', 'i', 'ask', 'where', 'my', 'refund', 'is', 'and', 'state', 'how', 'long', 'we', 'have', 'been', 'waiting', 'i', 'get', 'an', 'inane', 'email', 'saying', 'some', 'departments', 'take', 'longer', 'than', 'others', 'to', 'respond', '!', 'absolutely', 'hopeless', 'airline', 'to', 'stuff', 'up', 'the', 'booking', 'in', 'the', 'first', 'place', 'and', 'even', 'worse', 'customer', 'service', 'to', 'not', 'even', 'attempt', 'to', 'solve', 'the', 'problem', 'at', 'check', 'in', 'even', 'when', 'they', 'could', 'see', 'the', 'mistake', 'they', 'had', 'made', 'in', 'their', 'system', ',', 'compounded', 'by', 'being', 'be', 'unable', 'to', 'investigate', 'a', 'very', 'simple', 'claim', ',', 'and', 'refund', 'me', '150', 'pounds', 'in', '15', 'months', '.'], ['we', 'traveled', 'to', 'lisbon', 'for', 'our', 'dream', 'vacation', ',', 'a', 'cruise', 'to', 'portugal', 'and', 'spain', '.', 'our', 'friends', 'did', 'not', 'ever', 'get', 'their', 'luggage', '.', 'it', 'was', 'a', 'two', 'week', 'cruise', '.', 'two', 'weeks', 'without', 'a', 'change', 'of', 'clothes', 'or', 'her', 'cpap', 'machine', '.', 'contacting', 'customer', 'service', 'was', 'a', 'nightmare', '.', 'we', 'never', 'talked', 'to', 'a', 'real', 'person', '.', 'very', 'little', 'effort', 'was', 'put', 'into', 'getting', 'them', 'their', 'bags', '.', 'in', 'one', 'port', 'we', 'were', 'on', 'the', 'ship', 'and', 'the', 'bags', 'were', 'at', 'the', 'airport', '.', 'the', 'airlines', 'did', 'not', 'deliver', 'the', 'bags', 'nor', 'did', 'they', 'tell', 'our', 'friends', 'that', 'they', 'needed', 'to', 'go', 'get', 'them', '.', 'the', 'airline', 'couldn', '’', 't', 'be', 'bothered', 'to', 'take', 'the', 'bags', 'from', 'the', 'airport', 'to', 'the', 'ship', '.', 'ba', 'says', 'it', 'is', 'their', 'policy', 'to', 'get', 'you', 'your', 'bags', 'within', '72', 'hours', '.', 'that', 'is', 'a', 'joke', '!', 'it', '’', 's', 'been', 'over', 'two', 'weeks', 'and', 'they', 'still', 'don', '’', 't', 'have', 'them', '.', 'they', 'are', 'back', 'home', 'in', 'the', 'us', 'and', 'last', 'they', 'heard', 'the', 'bags', 'were', 'in', 'lisbon', '!', 'if', 'your', 'have', 'a', 'choice', ',', 'do', 'not', 'fly', 'british', 'airways', '.', 'customer', 'service', 'is', 'non', 'existent', '!'], ['booked', 'a', 'flight', 'from', 'bucharest', 'to', 'manchester', 'with', 'a', '2h', '45', '’', 'layover', 'at', 'heathrow', '.', 'flight', 'was', 'delayed', 'from', 'bucharest', 'because', 'of', 'atc', 'strike', '.', 'arrived', 'at', 'heathrow', '40', 'minutes', 'later', 'than', 'scheduled', 'and', 'still', 'had', 'enough', 'time', 'to', 'catch', 'my', 'connecting', 'flight', '.', 'unfortunately', 'we', 'were', 'stranded', 'in', 'the', 'plane', 'and', 'waited', 'a', 'very', 'long', 'time', 'to', 'disembark', 'the', 'plane', 'due', 'to', 'lack', 'of', 'staff', 'or', 'slot', 'shortage', '(', 'it', '’', 's', 'a', 'common', 'problem', 'with', 'ba', 'at', 'heathrow', ')', '.', 'i', 'missed', 'my', 'connecting', 'flight', 'because', 'of', 'their', 'delays', 'and', 'they', 'told', 'me', 'i', 'had', 'to', 'wait', 'all', 'night', 'in', 'a', 'freezing', 'airport', 'for', 'the', 'first', 'flight', 'the', 'next', 'day', '.', 'there', 'was', 'just', 'a', 'shameful', '10£', 'food', 'voucher', 'which', 'is', 'a', 'joke', 'considering', 'the', 'ridiculous', 'prices', 'at', 'lhr', '.', 'no', 'accommodation', 'offered', 'and', 'had', 'to', 'sleep', 'in', 'a', 'very', 'cold', 'airport', '.', 'i', 'asked', 'for', 'compensation', 'and', 'they', 'sent', 'me', 'a', 'long', 'text', 'with', 'the', 'same', 'lame', 'excuses', 'that', 'they', 'are', 'sorry', ',', 'but', 'they', 'will', 'not', 'compensate', 'anything', '.', 'i', 'can', '’', 't', 'imagine', 'a', 'worst', 'airline', 'than', 'ba', 'regarding', 'customer', 'care', '.', 'it', 'is', 'not', 'about', 'money', 'here', 'but', 'rather', 'than', 'the', 'way', 'they', 'treat', 'customers', '.', 'it', 'is', 'the', 'last', 'time', 'in', 'my', 'lifetime', 'that', 'i', 'will', 'be', 'flying', 'this', 'joke', 'of', 'an', 'airline', '.'], ['booked', 'online', 'months', 'ago', 'and', 'the', 'only', 'hitch', 'was', 'replacement', 'aircraft', 'meaning', 'chosen', 'seats', 'were', 'different', '.', 'i', 'was', 'informed', 'of', 'this', 'prior', 'to', 'departure', 'so', 'could', 'amend', '.', 'bag', 'drop', 'at', 'man', 't3', 'was', \"n't\", 'smooth', 'but', 'i', 'suspect', 'that', 'was', 'man', 'fault', '.', 'shuttle', 'boarding', 'was', 'slow', 'and', 'delayed', 'meaning', 'a', 'rush', 'at', 'lhr', 't5', '.', 'the', 'flight', 'to', 'cpt', 'was', 'full', 'but', 'we', 'left', 'more', 'or', 'less', 'on', 'time', '.', 'the', 'cabin', 'was', 'clean', 'and', 'pe', 'was', 'what', 'we', 'expected', ',', 'sufficient', 'leg', 'and', 'arm', 'room', 'plus', 'a', 'few', 'little', 'perks', 'with', 'drinks', '.', 'only', 'complaint', 'is', 'the', 'seats', 'actually', 'recline', 'too', 'far', '.', 'staff', 'were', 'very', 'good', 'during', 'the', 'first', 'few', 'hours', 'of', 'service', ',', 'especially', 'george', '.', 'food', 'was', 'quite', 'tasty', 'but', 'one', 'option', 'was', \"n't\", 'loaded', '.', 'breakfast', 'was', 'also', 'quite', 'tasty', 'and', 'we', 'landed', 'on', 'time', '.', 'the', 'fly', 'in', 'the', 'ointment', 'is', 'both', 'our', 'cases', 'arrived', 'late', 'on', 'the', 'carousel', 'and', 'only', 'later', 'did', 'we', 'notice', 'both', 'had', 'been', 'broken', 'into', ',', 'likely', 'at', 'cpt', '.', 'all', 'in', 'all', 'a', 'pleasant', 'surprise', '.'], ['the', 'flight', 'was', 'on', 'time', '.', 'the', 'crew', 'were', 'polite', '.', 'it', 'was', 'the', 'same', 'story', 'on', 'my', 'outward', 'flight', '.', 'i', 'find', 'that', 'ba', 'in', 'europe', 'is', 'generally', 'pretty', 'good', ',', 'though', 'i', 'regret', 'that', 'they', 'have', 'substituted', 'prosecco', 'for', 'champagne', 'on', 'the', 'list', 'of', 'drinks', 'you', 'can', 'buy', 'in', 'economy', '!', 'so', 'many', 'complaints', 'about', 'ba', 'and', 'other', 'airlines', 'revolve', 'around', 'lost', 'luggage', 'that', 'i', 'never', 'check', 'in', 'bags', ',', 'even', 'for', 'long', 'trips', '.'], ['angry', ',', 'disappointed', ',', 'and', 'unsatisfied', '.', 'my', 'route', 'was', 'from', 'london', 'to', 'atlanta', '.', 'my', 'suitcase', 'was', 'not', 'boarded', ',', 'therefore', 'not', 'landed', 'with', 'me', '.', 'for', 'both', 'comfort', 'and', 'safety', 'reason', ',', 'a', 'bag', 'always', 'fly', 'with', 'its', 'passenger', 'and', 'that', 'did', 'not', 'happen', '.', 'claims', 'and', 'few', 'phone', 'calls', 'were', 'made', 'by', 'desk', 'assistants', 'who', 'answered', 'my', 'questions', 'unprofessionally', 'and', 'miserably', '.', 'certainly', ',', 'i', 'was', 'left', 'with', 'nothing', 'but', 'my', 'backpack', 'which', 'contained', 'not', 'more', 'than', 'few', 'snacks', '.', 'neither', 'clothes', 'nor', 'anything', 'else', 'was', 'ever', 'provided', 'as', 'an', 'apology', '.', 'meanwhile', ',', 'i', 'was', 'also', 'told', 'that', 'my', 'bag', 'would', 'have', 'been', 'delivered', 'through', 'the', 'next', '24', 'hours', 'which', 'also', 'did', 'not', 'happen', '.', 'british', 'airways', 'is', 'a', 'great', 'airline', 'to', 'fly', 'with', 'but', 'its', 'organization', ',', 'when', 'it', 'comes', 'to', 'customer', 'service', ',', 'is', 'poor', 'and', 'uncertain', '.', 'still', 'waiting', 'for', 'my', 'bag', '.'], ['as', 'an', 'infrequent', 'flyer', ',', 'british', 'airways', 'was', 'always', 'my', 'first', 'choice', '.', 'with', 'some', 'reassurance', 'and', 'comfort', 'of', 'service', ',', 'quality', ',', 'luggage', 'allowance', 'etc', '.', 'in', 'fact', 'i', '’', 've', 'never', 'flown', 'with', 'the', 'budget', 'airlines', '.', 'my', 'most', 'recent', 'flight', 'has', 'now', 'changed', 'my', 'view', 'and', 'causes', 'me', 'to', 'reflect', 'on', 'what', 'am', 'i', 'actually', 'getting', 'for', 'my', 'money', 'and', 'is', 'ba', 'what', 'they', 'once', 'were', '.', 'while', 'the', 'flights', 'were', 'around', 'an', 'hour', 'delayed', 'both', 'ways', ',', 'the', 'cabin', 'and', 'ground', 'staff', 'service', 'were', 'ok', '.', 'it', 'is', 'the', 'facilities', '(', 'or', 'lack', 'of', ')', 'that', 'i', 'am', 'most', 'disappointed', 'by', '.', 'the', 'flight', 'was', 'approx', '4', 'and', 'a', 'half', 'hours', 'and', 'the', 'only', 'thing', 'offered', 'was', 'a', 'half', 'cup', 'of', 'water', 'that', 'was', 'poured', 'out', 'and', 'a', 'bite', 'sized', 'banana', 'slice', 'of', 'cake', '.', 'in', 'fact', 'on', 'my', 'return', 'journey', 'i', 'wasn', '’', 't', 'even', 'offered', 'the', 'water', '!', 'to', 'top', 'it', 'off', 'ba', 'no', 'longer', 'have', 'a', 'media', 'screen', 'from', 'which', 'you', 'can', 'select', 'something', 'to', 'pass', 'the', 'time', 'away', '.', 'there', 'wasn', '’', 't', 'even', 'the', 'obligatory', 'flight', 'journey', '.', 'the', 'wifi', 'was', 'poor', '.', 'i', 'couldn', '’', 't', 'even', 'access', 'the', 'shop', '.', 'however', ',', 'for', 'a', 'fee', 'so', 'much', 'more', 'was', 'available', '.', 'this', 'explains', 'bas', 'record', 'profit', 'of', '£1.52bn', '.', 'so', ',', 'the', 'question', 'is', ',', 'what', 'am', 'i', 'paying', 'for', '?', 'i', 'will', 'now', 'for', 'sure', 'opt', 'for', 'the', 'budget', 'airlines', '.', 'they', 'are', 'transparent', 'with', 'what', 'they', 'offer', 'and', 'what', 'you', 'have', 'to', 'pay', 'for', ',', 'which', 'i', 'can', 'decide', 'to', 'choose', 'or', 'not', '.', 'as', 'ba', 'now', 'stands', 'for', 'basic', 'airways', 'i', '’', 'll', 'go', 'elsewhere', 'and', 'get', 'basic', 'for', 'cheaper', '.']]\n"
     ]
    }
   ],
   "source": [
    "# Convert each word to lowercase\n",
    "tokens = [[word.lower() for word in review] for review in tokens]\n",
    "\n",
    "# Print the first 10 reviews after lowercasing\n",
    "print(tokens[:10])"
   ]
  },
  {
   "cell_type": "markdown",
   "metadata": {},
   "source": [
    "### Removing Punctuation and Numbers\n",
    "\n",
    "We can use Python's built-in `string.punctuation` to remove all punctuation."
   ]
  },
  {
   "cell_type": "code",
   "execution_count": 68,
   "metadata": {},
   "outputs": [
    {
     "name": "stdout",
     "output_type": "stream",
     "text": [
      "[['4', 'hours', 'before', 'takeoff', 'we', 'received', 'a', 'mail', 'stating', 'a', 'cryptic', 'message', 'that', 'there', 'are', 'disruptions', 'to', 'be', 'expected', 'as', 'there', 'is', 'a', 'limit', 'on', 'how', 'many', 'planes', 'can', 'leave', 'at', 'the', 'same', 'time', '', 'so', 'did', 'the', 'capacity', 'of', 'the', 'heathrow', 'airport', 'really', 'hit', 'british', 'airways', 'by', 'surprise', '', '4h', 'before', 'departure', '', 'anyhow', '', 'we', 'took', 'the', 'one', 'hour', 'delay', 'so', 'what', '', 'but', 'then', 'we', 'have', 'been', 'forced', 'to', 'check', 'in', 'our', 'hand', 'luggage', '', 'i', 'travel', 'only', 'with', 'hand', 'luggage', 'to', 'avoid', 'waiting', 'for', 'the', 'ultra', 'slow', 'processing', 'of', 'the', 'checked', 'in', 'luggage', '', 'overall', '2h', 'later', 'at', 'home', 'than', 'planed', '', 'with', 'really', 'no', 'reason', '', 'just', 'due', 'to', 'incompetent', 'people', '', 'service', 'level', 'far', 'worse', 'then', 'ryanair', 'and', 'triple', 'the', 'price', '', 'really', 'never', 'again', '', 'thanks', 'for', 'nothing', ''], ['i', 'recently', 'had', 'a', 'delay', 'on', 'british', 'airways', 'from', 'bru', 'to', 'lhr', 'that', 'was', 'due', 'to', 'staff', 'shortages', '', 'they', 'announced', 'that', 'there', 'was', 'a', '2', 'hour', 'holding', 'delay', 'but', 'they', 'would', 'board', 'us', 'immediately', 'in', 'hopes', 'of', 'clearing', 'the', 'gate', 'and', 'leaving', 'early', '', 'we', 'had', 'to', 'wait', 'the', 'full', '2', 'hours', 'inside', 'the', 'airplane', '', 'the', 'plane', 'was', 'old', '', 'dirty', '', 'had', 'no', 'power', 'at', 'the', 'seats', '', 'the', 'staff', 'provided', 'a', 'small', 'bag', 'of', 'pretzels', 'and', '250ml', 'of', 'water', 'to', 'the', 'passengers', 'for', '2', 'hour', 'delay', 'and', '2', 'hour', 'flight', '', 'there', 'were', 'no', 'options', 'to', 'purchase', 'food', 'or', 'drink', '', 'there', 'were', 'no', 'entertainment', 'options', 'available', '', 'i', 'am', 'a', 'oneworld', 'emerald', 'elite', 'member', 'but', 'they', 'do', 'not', 'upgrade', 'members', 'based', 'on', 'status', '', 'first', 'class', 'lounges', 'at', 'heathrow', 'are', 'overcrowded', '', 'understaffed', 'and', 'poorly', 'equipped', '', 'the', 'help', 'desk', 'is', 'completely', 'unhelpful', 'when', 'an', 'error', 'arises', 'with', 'delays', 'and', 'cancellations', '', 'even', 'when', 'having', 'the', 'top', 'status', '', 'the', 'avios', 'points', 'system', 'has', 'been', 'devalued', 'to', 'near', 'worthlessness', 'and', 'requires', 'fees', 'to', 'book', 'reward', 'that', 'nearly', 'equal', 'the', 'price', 'of', 'the', 'revenue', 'ticket', '', 'british', 'has', 'lost', 'its', 'way', 'in', 'recent', 'years', 'and', 'has', 'a', 'moved', 'from', 'a', 'worldclass', 'airline', 'to', 'a', 'budget', 'airline', 'with', 'much', 'worse', 'service', 'and', 'timeliness', 'than', 'ryanair', 'or', 'easyjet', ''], ['boarded', 'on', 'time', '', 'but', 'it', 'took', 'ages', 'to', 'get', 'to', 'the', 'runway', 'due', 'to', 'congestion', '', 'flight', 'was', 'smooth', 'and', 'quick', '', 'snack', 'and', 'drinks', 'were', 'good', 'for', 'a', 'short', 'flight', '', 'landed', 'only', 'about', 'ten', 'minutes', 'late', '', 'one', 'bag', 'of', 'three', 'left', 'in', 'london', '', 'forms', 'quickly', 'filled', 'in', '', 'and', 'the', 'bag', 'was', 'delivered', 'the', 'next', 'morning', ''], ['5', 'days', 'before', 'the', 'flight', '', 'we', 'were', 'advised', 'by', 'ba', 'that', 'it', 'had', 'been', 'cancelled', 'and', 'asked', 'us', 'to', 'rebook', '', 'there', 'were', 'flights', '1', 'hour', 'before', 'and', '1', 'hour', 'after', 'our', 'original', 'flight', 'but', 'they', 'made', 'us', 'take', 'one', '3', 'hours', 'earlier', '', 'our', 'original', 'ticket', '', 'and', 'the', 'return', 'flight', 'a', 'week', 'later', '', 'included', 'a', 'checked', 'bag', '', 'when', 'we', 'arrive', 'at', 'heathrow', 'to', 'check', 'in', 'we', 'are', 'told', 'our', 'ticket', 'does', 'nt', 'included', 'a', 'bag', 'and', 'we', 'will', 'have', 'to', 'pay', '75', 'pounds', 'each', 'to', 'take', 'them', '', 'we', 'explained', 'that', 'the', 'original', 'ticket', 'had', 'the', 'bags', 'and', 'when', 'they', 'checked', 'the', 'system', 'they', 'confirmed', 'that', 'it', 'did', 'but', 'not', 'this', 'one', '', 'they', 'would', 'make', 'no', 'effort', 'to', 'sort', 'it', 'out', 'and', 'just', 'told', 'us', 'to', 'pay', 'up', 'or', 'they', 'would', 'remove', 'us', 'from', 'the', 'flight', '', 'so', 'we', 'had', 'no', 'choice', 'but', 'to', 'pay', 'up', '', 'thinking', 'it', 'should', 'be', 'pretty', 'easy', 'to', 'get', 'a', 'refund', '', '15', 'months', 'and', '10', 'emails', 'later', 'we', 'have', 'still', 'not', 'seen', 'a', 'penny', '', 'every', 'time', 'i', 'ask', 'where', 'my', 'refund', 'is', 'and', 'state', 'how', 'long', 'we', 'have', 'been', 'waiting', 'i', 'get', 'an', 'inane', 'email', 'saying', 'some', 'departments', 'take', 'longer', 'than', 'others', 'to', 'respond', '', 'absolutely', 'hopeless', 'airline', 'to', 'stuff', 'up', 'the', 'booking', 'in', 'the', 'first', 'place', 'and', 'even', 'worse', 'customer', 'service', 'to', 'not', 'even', 'attempt', 'to', 'solve', 'the', 'problem', 'at', 'check', 'in', 'even', 'when', 'they', 'could', 'see', 'the', 'mistake', 'they', 'had', 'made', 'in', 'their', 'system', '', 'compounded', 'by', 'being', 'be', 'unable', 'to', 'investigate', 'a', 'very', 'simple', 'claim', '', 'and', 'refund', 'me', '150', 'pounds', 'in', '15', 'months', ''], ['we', 'traveled', 'to', 'lisbon', 'for', 'our', 'dream', 'vacation', '', 'a', 'cruise', 'to', 'portugal', 'and', 'spain', '', 'our', 'friends', 'did', 'not', 'ever', 'get', 'their', 'luggage', '', 'it', 'was', 'a', 'two', 'week', 'cruise', '', 'two', 'weeks', 'without', 'a', 'change', 'of', 'clothes', 'or', 'her', 'cpap', 'machine', '', 'contacting', 'customer', 'service', 'was', 'a', 'nightmare', '', 'we', 'never', 'talked', 'to', 'a', 'real', 'person', '', 'very', 'little', 'effort', 'was', 'put', 'into', 'getting', 'them', 'their', 'bags', '', 'in', 'one', 'port', 'we', 'were', 'on', 'the', 'ship', 'and', 'the', 'bags', 'were', 'at', 'the', 'airport', '', 'the', 'airlines', 'did', 'not', 'deliver', 'the', 'bags', 'nor', 'did', 'they', 'tell', 'our', 'friends', 'that', 'they', 'needed', 'to', 'go', 'get', 'them', '', 'the', 'airline', 'couldn', '’', 't', 'be', 'bothered', 'to', 'take', 'the', 'bags', 'from', 'the', 'airport', 'to', 'the', 'ship', '', 'ba', 'says', 'it', 'is', 'their', 'policy', 'to', 'get', 'you', 'your', 'bags', 'within', '72', 'hours', '', 'that', 'is', 'a', 'joke', '', 'it', '’', 's', 'been', 'over', 'two', 'weeks', 'and', 'they', 'still', 'don', '’', 't', 'have', 'them', '', 'they', 'are', 'back', 'home', 'in', 'the', 'us', 'and', 'last', 'they', 'heard', 'the', 'bags', 'were', 'in', 'lisbon', '', 'if', 'your', 'have', 'a', 'choice', '', 'do', 'not', 'fly', 'british', 'airways', '', 'customer', 'service', 'is', 'non', 'existent', ''], ['booked', 'a', 'flight', 'from', 'bucharest', 'to', 'manchester', 'with', 'a', '2h', '45', '’', 'layover', 'at', 'heathrow', '', 'flight', 'was', 'delayed', 'from', 'bucharest', 'because', 'of', 'atc', 'strike', '', 'arrived', 'at', 'heathrow', '40', 'minutes', 'later', 'than', 'scheduled', 'and', 'still', 'had', 'enough', 'time', 'to', 'catch', 'my', 'connecting', 'flight', '', 'unfortunately', 'we', 'were', 'stranded', 'in', 'the', 'plane', 'and', 'waited', 'a', 'very', 'long', 'time', 'to', 'disembark', 'the', 'plane', 'due', 'to', 'lack', 'of', 'staff', 'or', 'slot', 'shortage', '', 'it', '’', 's', 'a', 'common', 'problem', 'with', 'ba', 'at', 'heathrow', '', '', 'i', 'missed', 'my', 'connecting', 'flight', 'because', 'of', 'their', 'delays', 'and', 'they', 'told', 'me', 'i', 'had', 'to', 'wait', 'all', 'night', 'in', 'a', 'freezing', 'airport', 'for', 'the', 'first', 'flight', 'the', 'next', 'day', '', 'there', 'was', 'just', 'a', 'shameful', '10£', 'food', 'voucher', 'which', 'is', 'a', 'joke', 'considering', 'the', 'ridiculous', 'prices', 'at', 'lhr', '', 'no', 'accommodation', 'offered', 'and', 'had', 'to', 'sleep', 'in', 'a', 'very', 'cold', 'airport', '', 'i', 'asked', 'for', 'compensation', 'and', 'they', 'sent', 'me', 'a', 'long', 'text', 'with', 'the', 'same', 'lame', 'excuses', 'that', 'they', 'are', 'sorry', '', 'but', 'they', 'will', 'not', 'compensate', 'anything', '', 'i', 'can', '’', 't', 'imagine', 'a', 'worst', 'airline', 'than', 'ba', 'regarding', 'customer', 'care', '', 'it', 'is', 'not', 'about', 'money', 'here', 'but', 'rather', 'than', 'the', 'way', 'they', 'treat', 'customers', '', 'it', 'is', 'the', 'last', 'time', 'in', 'my', 'lifetime', 'that', 'i', 'will', 'be', 'flying', 'this', 'joke', 'of', 'an', 'airline', ''], ['booked', 'online', 'months', 'ago', 'and', 'the', 'only', 'hitch', 'was', 'replacement', 'aircraft', 'meaning', 'chosen', 'seats', 'were', 'different', '', 'i', 'was', 'informed', 'of', 'this', 'prior', 'to', 'departure', 'so', 'could', 'amend', '', 'bag', 'drop', 'at', 'man', 't3', 'was', 'nt', 'smooth', 'but', 'i', 'suspect', 'that', 'was', 'man', 'fault', '', 'shuttle', 'boarding', 'was', 'slow', 'and', 'delayed', 'meaning', 'a', 'rush', 'at', 'lhr', 't5', '', 'the', 'flight', 'to', 'cpt', 'was', 'full', 'but', 'we', 'left', 'more', 'or', 'less', 'on', 'time', '', 'the', 'cabin', 'was', 'clean', 'and', 'pe', 'was', 'what', 'we', 'expected', '', 'sufficient', 'leg', 'and', 'arm', 'room', 'plus', 'a', 'few', 'little', 'perks', 'with', 'drinks', '', 'only', 'complaint', 'is', 'the', 'seats', 'actually', 'recline', 'too', 'far', '', 'staff', 'were', 'very', 'good', 'during', 'the', 'first', 'few', 'hours', 'of', 'service', '', 'especially', 'george', '', 'food', 'was', 'quite', 'tasty', 'but', 'one', 'option', 'was', 'nt', 'loaded', '', 'breakfast', 'was', 'also', 'quite', 'tasty', 'and', 'we', 'landed', 'on', 'time', '', 'the', 'fly', 'in', 'the', 'ointment', 'is', 'both', 'our', 'cases', 'arrived', 'late', 'on', 'the', 'carousel', 'and', 'only', 'later', 'did', 'we', 'notice', 'both', 'had', 'been', 'broken', 'into', '', 'likely', 'at', 'cpt', '', 'all', 'in', 'all', 'a', 'pleasant', 'surprise', ''], ['the', 'flight', 'was', 'on', 'time', '', 'the', 'crew', 'were', 'polite', '', 'it', 'was', 'the', 'same', 'story', 'on', 'my', 'outward', 'flight', '', 'i', 'find', 'that', 'ba', 'in', 'europe', 'is', 'generally', 'pretty', 'good', '', 'though', 'i', 'regret', 'that', 'they', 'have', 'substituted', 'prosecco', 'for', 'champagne', 'on', 'the', 'list', 'of', 'drinks', 'you', 'can', 'buy', 'in', 'economy', '', 'so', 'many', 'complaints', 'about', 'ba', 'and', 'other', 'airlines', 'revolve', 'around', 'lost', 'luggage', 'that', 'i', 'never', 'check', 'in', 'bags', '', 'even', 'for', 'long', 'trips', ''], ['angry', '', 'disappointed', '', 'and', 'unsatisfied', '', 'my', 'route', 'was', 'from', 'london', 'to', 'atlanta', '', 'my', 'suitcase', 'was', 'not', 'boarded', '', 'therefore', 'not', 'landed', 'with', 'me', '', 'for', 'both', 'comfort', 'and', 'safety', 'reason', '', 'a', 'bag', 'always', 'fly', 'with', 'its', 'passenger', 'and', 'that', 'did', 'not', 'happen', '', 'claims', 'and', 'few', 'phone', 'calls', 'were', 'made', 'by', 'desk', 'assistants', 'who', 'answered', 'my', 'questions', 'unprofessionally', 'and', 'miserably', '', 'certainly', '', 'i', 'was', 'left', 'with', 'nothing', 'but', 'my', 'backpack', 'which', 'contained', 'not', 'more', 'than', 'few', 'snacks', '', 'neither', 'clothes', 'nor', 'anything', 'else', 'was', 'ever', 'provided', 'as', 'an', 'apology', '', 'meanwhile', '', 'i', 'was', 'also', 'told', 'that', 'my', 'bag', 'would', 'have', 'been', 'delivered', 'through', 'the', 'next', '24', 'hours', 'which', 'also', 'did', 'not', 'happen', '', 'british', 'airways', 'is', 'a', 'great', 'airline', 'to', 'fly', 'with', 'but', 'its', 'organization', '', 'when', 'it', 'comes', 'to', 'customer', 'service', '', 'is', 'poor', 'and', 'uncertain', '', 'still', 'waiting', 'for', 'my', 'bag', ''], ['as', 'an', 'infrequent', 'flyer', '', 'british', 'airways', 'was', 'always', 'my', 'first', 'choice', '', 'with', 'some', 'reassurance', 'and', 'comfort', 'of', 'service', '', 'quality', '', 'luggage', 'allowance', 'etc', '', 'in', 'fact', 'i', '’', 've', 'never', 'flown', 'with', 'the', 'budget', 'airlines', '', 'my', 'most', 'recent', 'flight', 'has', 'now', 'changed', 'my', 'view', 'and', 'causes', 'me', 'to', 'reflect', 'on', 'what', 'am', 'i', 'actually', 'getting', 'for', 'my', 'money', 'and', 'is', 'ba', 'what', 'they', 'once', 'were', '', 'while', 'the', 'flights', 'were', 'around', 'an', 'hour', 'delayed', 'both', 'ways', '', 'the', 'cabin', 'and', 'ground', 'staff', 'service', 'were', 'ok', '', 'it', 'is', 'the', 'facilities', '', 'or', 'lack', 'of', '', 'that', 'i', 'am', 'most', 'disappointed', 'by', '', 'the', 'flight', 'was', 'approx', '4', 'and', 'a', 'half', 'hours', 'and', 'the', 'only', 'thing', 'offered', 'was', 'a', 'half', 'cup', 'of', 'water', 'that', 'was', 'poured', 'out', 'and', 'a', 'bite', 'sized', 'banana', 'slice', 'of', 'cake', '', 'in', 'fact', 'on', 'my', 'return', 'journey', 'i', 'wasn', '’', 't', 'even', 'offered', 'the', 'water', '', 'to', 'top', 'it', 'off', 'ba', 'no', 'longer', 'have', 'a', 'media', 'screen', 'from', 'which', 'you', 'can', 'select', 'something', 'to', 'pass', 'the', 'time', 'away', '', 'there', 'wasn', '’', 't', 'even', 'the', 'obligatory', 'flight', 'journey', '', 'the', 'wifi', 'was', 'poor', '', 'i', 'couldn', '’', 't', 'even', 'access', 'the', 'shop', '', 'however', '', 'for', 'a', 'fee', 'so', 'much', 'more', 'was', 'available', '', 'this', 'explains', 'bas', 'record', 'profit', 'of', '£152bn', '', 'so', '', 'the', 'question', 'is', '', 'what', 'am', 'i', 'paying', 'for', '', 'i', 'will', 'now', 'for', 'sure', 'opt', 'for', 'the', 'budget', 'airlines', '', 'they', 'are', 'transparent', 'with', 'what', 'they', 'offer', 'and', 'what', 'you', 'have', 'to', 'pay', 'for', '', 'which', 'i', 'can', 'decide', 'to', 'choose', 'or', 'not', '', 'as', 'ba', 'now', 'stands', 'for', 'basic', 'airways', 'i', '’', 'll', 'go', 'elsewhere', 'and', 'get', 'basic', 'for', 'cheaper', '']]\n"
     ]
    }
   ],
   "source": [
    "import string\n",
    "\n",
    "# Create a translation table that maps every punctuation character to None\n",
    "table = str.maketrans('', '', string.punctuation)\n",
    "\n",
    "# Use a nested list comprehension to remove punctuation from each word in each review\n",
    "stripped = [[word.translate(table) for word in review] for review in tokens]\n",
    "\n",
    "# Print the first 10 reviews after removing punctuation\n",
    "print(stripped[:10])"
   ]
  },
  {
   "cell_type": "markdown",
   "metadata": {},
   "source": [
    "### Removing Stop Words\n",
    "\n",
    "Stop words are common words like 'is', 'the', 'a', etc. that do not carry much meaningful information. NLTK has a list of commonly agreed upon stop words that you can use to filter out from your tokens."
   ]
  },
  {
   "cell_type": "code",
   "execution_count": 69,
   "metadata": {},
   "outputs": [
    {
     "name": "stdout",
     "output_type": "stream",
     "text": [
      "[['4', 'hours', 'takeoff', 'received', 'mail', 'stating', 'cryptic', 'message', 'disruptions', 'expected', 'limit', 'many', 'planes', 'leave', 'time', '', 'capacity', 'heathrow', 'airport', 'really', 'hit', 'british', 'airways', 'surprise', '', '4h', 'departure', '', 'anyhow', '', 'took', 'one', 'hour', 'delay', '', 'forced', 'check', 'hand', 'luggage', '', 'travel', 'hand', 'luggage', 'avoid', 'waiting', 'ultra', 'slow', 'processing', 'checked', 'luggage', '', 'overall', '2h', 'later', 'home', 'planed', '', 'really', 'reason', '', 'due', 'incompetent', 'people', '', 'service', 'level', 'far', 'worse', 'ryanair', 'triple', 'price', '', 'really', 'never', '', 'thanks', 'nothing', ''], ['recently', 'delay', 'british', 'airways', 'bru', 'lhr', 'due', 'staff', 'shortages', '', 'announced', '2', 'hour', 'holding', 'delay', 'would', 'board', 'us', 'immediately', 'hopes', 'clearing', 'gate', 'leaving', 'early', '', 'wait', 'full', '2', 'hours', 'inside', 'airplane', '', 'plane', 'old', '', 'dirty', '', 'power', 'seats', '', 'staff', 'provided', 'small', 'bag', 'pretzels', '250ml', 'water', 'passengers', '2', 'hour', 'delay', '2', 'hour', 'flight', '', 'options', 'purchase', 'food', 'drink', '', 'entertainment', 'options', 'available', '', 'oneworld', 'emerald', 'elite', 'member', 'upgrade', 'members', 'based', 'status', '', 'first', 'class', 'lounges', 'heathrow', 'overcrowded', '', 'understaffed', 'poorly', 'equipped', '', 'help', 'desk', 'completely', 'unhelpful', 'error', 'arises', 'delays', 'cancellations', '', 'even', 'top', 'status', '', 'avios', 'points', 'system', 'devalued', 'near', 'worthlessness', 'requires', 'fees', 'book', 'reward', 'nearly', 'equal', 'price', 'revenue', 'ticket', '', 'british', 'lost', 'way', 'recent', 'years', 'moved', 'worldclass', 'airline', 'budget', 'airline', 'much', 'worse', 'service', 'timeliness', 'ryanair', 'easyjet', ''], ['boarded', 'time', '', 'took', 'ages', 'get', 'runway', 'due', 'congestion', '', 'flight', 'smooth', 'quick', '', 'snack', 'drinks', 'good', 'short', 'flight', '', 'landed', 'ten', 'minutes', 'late', '', 'one', 'bag', 'three', 'left', 'london', '', 'forms', 'quickly', 'filled', '', 'bag', 'delivered', 'next', 'morning', ''], ['5', 'days', 'flight', '', 'advised', 'ba', 'cancelled', 'asked', 'us', 'rebook', '', 'flights', '1', 'hour', '1', 'hour', 'original', 'flight', 'made', 'us', 'take', 'one', '3', 'hours', 'earlier', '', 'original', 'ticket', '', 'return', 'flight', 'week', 'later', '', 'included', 'checked', 'bag', '', 'arrive', 'heathrow', 'check', 'told', 'ticket', 'nt', 'included', 'bag', 'pay', '75', 'pounds', 'take', '', 'explained', 'original', 'ticket', 'bags', 'checked', 'system', 'confirmed', 'one', '', 'would', 'make', 'effort', 'sort', 'told', 'us', 'pay', 'would', 'remove', 'us', 'flight', '', 'choice', 'pay', '', 'thinking', 'pretty', 'easy', 'get', 'refund', '', '15', 'months', '10', 'emails', 'later', 'still', 'seen', 'penny', '', 'every', 'time', 'ask', 'refund', 'state', 'long', 'waiting', 'get', 'inane', 'email', 'saying', 'departments', 'take', 'longer', 'others', 'respond', '', 'absolutely', 'hopeless', 'airline', 'stuff', 'booking', 'first', 'place', 'even', 'worse', 'customer', 'service', 'even', 'attempt', 'solve', 'problem', 'check', 'even', 'could', 'see', 'mistake', 'made', 'system', '', 'compounded', 'unable', 'investigate', 'simple', 'claim', '', 'refund', '150', 'pounds', '15', 'months', ''], ['traveled', 'lisbon', 'dream', 'vacation', '', 'cruise', 'portugal', 'spain', '', 'friends', 'ever', 'get', 'luggage', '', 'two', 'week', 'cruise', '', 'two', 'weeks', 'without', 'change', 'clothes', 'cpap', 'machine', '', 'contacting', 'customer', 'service', 'nightmare', '', 'never', 'talked', 'real', 'person', '', 'little', 'effort', 'put', 'getting', 'bags', '', 'one', 'port', 'ship', 'bags', 'airport', '', 'airlines', 'deliver', 'bags', 'tell', 'friends', 'needed', 'go', 'get', '', 'airline', '’', 'bothered', 'take', 'bags', 'airport', 'ship', '', 'ba', 'says', 'policy', 'get', 'bags', 'within', '72', 'hours', '', 'joke', '', '’', 'two', 'weeks', 'still', '’', '', 'back', 'home', 'us', 'last', 'heard', 'bags', 'lisbon', '', 'choice', '', 'fly', 'british', 'airways', '', 'customer', 'service', 'non', 'existent', ''], ['booked', 'flight', 'bucharest', 'manchester', '2h', '45', '’', 'layover', 'heathrow', '', 'flight', 'delayed', 'bucharest', 'atc', 'strike', '', 'arrived', 'heathrow', '40', 'minutes', 'later', 'scheduled', 'still', 'enough', 'time', 'catch', 'connecting', 'flight', '', 'unfortunately', 'stranded', 'plane', 'waited', 'long', 'time', 'disembark', 'plane', 'due', 'lack', 'staff', 'slot', 'shortage', '', '’', 'common', 'problem', 'ba', 'heathrow', '', '', 'missed', 'connecting', 'flight', 'delays', 'told', 'wait', 'night', 'freezing', 'airport', 'first', 'flight', 'next', 'day', '', 'shameful', '10£', 'food', 'voucher', 'joke', 'considering', 'ridiculous', 'prices', 'lhr', '', 'accommodation', 'offered', 'sleep', 'cold', 'airport', '', 'asked', 'compensation', 'sent', 'long', 'text', 'lame', 'excuses', 'sorry', '', 'compensate', 'anything', '', '’', 'imagine', 'worst', 'airline', 'ba', 'regarding', 'customer', 'care', '', 'money', 'rather', 'way', 'treat', 'customers', '', 'last', 'time', 'lifetime', 'flying', 'joke', 'airline', ''], ['booked', 'online', 'months', 'ago', 'hitch', 'replacement', 'aircraft', 'meaning', 'chosen', 'seats', 'different', '', 'informed', 'prior', 'departure', 'could', 'amend', '', 'bag', 'drop', 'man', 't3', 'nt', 'smooth', 'suspect', 'man', 'fault', '', 'shuttle', 'boarding', 'slow', 'delayed', 'meaning', 'rush', 'lhr', 't5', '', 'flight', 'cpt', 'full', 'left', 'less', 'time', '', 'cabin', 'clean', 'pe', 'expected', '', 'sufficient', 'leg', 'arm', 'room', 'plus', 'little', 'perks', 'drinks', '', 'complaint', 'seats', 'actually', 'recline', 'far', '', 'staff', 'good', 'first', 'hours', 'service', '', 'especially', 'george', '', 'food', 'quite', 'tasty', 'one', 'option', 'nt', 'loaded', '', 'breakfast', 'also', 'quite', 'tasty', 'landed', 'time', '', 'fly', 'ointment', 'cases', 'arrived', 'late', 'carousel', 'later', 'notice', 'broken', '', 'likely', 'cpt', '', 'pleasant', 'surprise', ''], ['flight', 'time', '', 'crew', 'polite', '', 'story', 'outward', 'flight', '', 'find', 'ba', 'europe', 'generally', 'pretty', 'good', '', 'though', 'regret', 'substituted', 'prosecco', 'champagne', 'list', 'drinks', 'buy', 'economy', '', 'many', 'complaints', 'ba', 'airlines', 'revolve', 'around', 'lost', 'luggage', 'never', 'check', 'bags', '', 'even', 'long', 'trips', ''], ['angry', '', 'disappointed', '', 'unsatisfied', '', 'route', 'london', 'atlanta', '', 'suitcase', 'boarded', '', 'therefore', 'landed', '', 'comfort', 'safety', 'reason', '', 'bag', 'always', 'fly', 'passenger', 'happen', '', 'claims', 'phone', 'calls', 'made', 'desk', 'assistants', 'answered', 'questions', 'unprofessionally', 'miserably', '', 'certainly', '', 'left', 'nothing', 'backpack', 'contained', 'snacks', '', 'neither', 'clothes', 'anything', 'else', 'ever', 'provided', 'apology', '', 'meanwhile', '', 'also', 'told', 'bag', 'would', 'delivered', 'next', '24', 'hours', 'also', 'happen', '', 'british', 'airways', 'great', 'airline', 'fly', 'organization', '', 'comes', 'customer', 'service', '', 'poor', 'uncertain', '', 'still', 'waiting', 'bag', ''], ['infrequent', 'flyer', '', 'british', 'airways', 'always', 'first', 'choice', '', 'reassurance', 'comfort', 'service', '', 'quality', '', 'luggage', 'allowance', 'etc', '', 'fact', '’', 'never', 'flown', 'budget', 'airlines', '', 'recent', 'flight', 'changed', 'view', 'causes', 'reflect', 'actually', 'getting', 'money', 'ba', '', 'flights', 'around', 'hour', 'delayed', 'ways', '', 'cabin', 'ground', 'staff', 'service', 'ok', '', 'facilities', '', 'lack', '', 'disappointed', '', 'flight', 'approx', '4', 'half', 'hours', 'thing', 'offered', 'half', 'cup', 'water', 'poured', 'bite', 'sized', 'banana', 'slice', 'cake', '', 'fact', 'return', 'journey', '’', 'even', 'offered', 'water', '', 'top', 'ba', 'longer', 'media', 'screen', 'select', 'something', 'pass', 'time', 'away', '', '’', 'even', 'obligatory', 'flight', 'journey', '', 'wifi', 'poor', '', '’', 'even', 'access', 'shop', '', 'however', '', 'fee', 'much', 'available', '', 'explains', 'bas', 'record', 'profit', '£152bn', '', '', 'question', '', 'paying', '', 'sure', 'opt', 'budget', 'airlines', '', 'transparent', 'offer', 'pay', '', 'decide', 'choose', '', 'ba', 'stands', 'basic', 'airways', '’', 'go', 'elsewhere', 'get', 'basic', 'cheaper', '']]\n"
     ]
    },
    {
     "name": "stderr",
     "output_type": "stream",
     "text": [
      "[nltk_data] Downloading package stopwords to\n",
      "[nltk_data]     C:\\Users\\ASUS\\AppData\\Roaming\\nltk_data...\n",
      "[nltk_data]   Package stopwords is already up-to-date!\n"
     ]
    }
   ],
   "source": [
    "# Download the 'stopwords' resource for removing stop words\n",
    "nltk.download('stopwords')\n",
    "from nltk.corpus import stopwords\n",
    "\n",
    "# Define the set of stop words\n",
    "stop_words = set(stopwords.words('english'))\n",
    "\n",
    "# Remove stop words from each review\n",
    "words = [[word for word in review if not word in stop_words] for review in stripped]\n",
    "\n",
    "# Print the first 10 reviews after removing stop words\n",
    "print(words[:10])"
   ]
  },
  {
   "cell_type": "markdown",
   "metadata": {},
   "source": [
    "### Stemming\n",
    "\n",
    "This is the process of reducing inflected (or sometimes derived) words to their word stem, base or root form. For example, 'jumps', 'jumping', 'jumped' can be reduced to the stem 'jump'."
   ]
  },
  {
   "cell_type": "code",
   "execution_count": 70,
   "metadata": {},
   "outputs": [
    {
     "name": "stdout",
     "output_type": "stream",
     "text": [
      "[['4', 'hour', 'takeoff', 'receiv', 'mail', 'state', 'cryptic', 'messag', 'disrupt', 'expect', 'limit', 'mani', 'plane', 'leav', 'time', '', 'capac', 'heathrow', 'airport', 'realli', 'hit', 'british', 'airway', 'surpris', '', '4h', 'departur', '', 'anyhow', '', 'took', 'one', 'hour', 'delay', '', 'forc', 'check', 'hand', 'luggag', '', 'travel', 'hand', 'luggag', 'avoid', 'wait', 'ultra', 'slow', 'process', 'check', 'luggag', '', 'overal', '2h', 'later', 'home', 'plane', '', 'realli', 'reason', '', 'due', 'incompet', 'peopl', '', 'servic', 'level', 'far', 'wors', 'ryanair', 'tripl', 'price', '', 'realli', 'never', '', 'thank', 'noth', ''], ['recent', 'delay', 'british', 'airway', 'bru', 'lhr', 'due', 'staff', 'shortag', '', 'announc', '2', 'hour', 'hold', 'delay', 'would', 'board', 'us', 'immedi', 'hope', 'clear', 'gate', 'leav', 'earli', '', 'wait', 'full', '2', 'hour', 'insid', 'airplan', '', 'plane', 'old', '', 'dirti', '', 'power', 'seat', '', 'staff', 'provid', 'small', 'bag', 'pretzel', '250ml', 'water', 'passeng', '2', 'hour', 'delay', '2', 'hour', 'flight', '', 'option', 'purchas', 'food', 'drink', '', 'entertain', 'option', 'avail', '', 'oneworld', 'emerald', 'elit', 'member', 'upgrad', 'member', 'base', 'statu', '', 'first', 'class', 'loung', 'heathrow', 'overcrowd', '', 'understaf', 'poorli', 'equip', '', 'help', 'desk', 'complet', 'unhelp', 'error', 'aris', 'delay', 'cancel', '', 'even', 'top', 'statu', '', 'avio', 'point', 'system', 'devalu', 'near', 'worthless', 'requir', 'fee', 'book', 'reward', 'nearli', 'equal', 'price', 'revenu', 'ticket', '', 'british', 'lost', 'way', 'recent', 'year', 'move', 'worldclass', 'airlin', 'budget', 'airlin', 'much', 'wors', 'servic', 'timeli', 'ryanair', 'easyjet', ''], ['board', 'time', '', 'took', 'age', 'get', 'runway', 'due', 'congest', '', 'flight', 'smooth', 'quick', '', 'snack', 'drink', 'good', 'short', 'flight', '', 'land', 'ten', 'minut', 'late', '', 'one', 'bag', 'three', 'left', 'london', '', 'form', 'quickli', 'fill', '', 'bag', 'deliv', 'next', 'morn', ''], ['5', 'day', 'flight', '', 'advis', 'ba', 'cancel', 'ask', 'us', 'rebook', '', 'flight', '1', 'hour', '1', 'hour', 'origin', 'flight', 'made', 'us', 'take', 'one', '3', 'hour', 'earlier', '', 'origin', 'ticket', '', 'return', 'flight', 'week', 'later', '', 'includ', 'check', 'bag', '', 'arriv', 'heathrow', 'check', 'told', 'ticket', 'nt', 'includ', 'bag', 'pay', '75', 'pound', 'take', '', 'explain', 'origin', 'ticket', 'bag', 'check', 'system', 'confirm', 'one', '', 'would', 'make', 'effort', 'sort', 'told', 'us', 'pay', 'would', 'remov', 'us', 'flight', '', 'choic', 'pay', '', 'think', 'pretti', 'easi', 'get', 'refund', '', '15', 'month', '10', 'email', 'later', 'still', 'seen', 'penni', '', 'everi', 'time', 'ask', 'refund', 'state', 'long', 'wait', 'get', 'inan', 'email', 'say', 'depart', 'take', 'longer', 'other', 'respond', '', 'absolut', 'hopeless', 'airlin', 'stuff', 'book', 'first', 'place', 'even', 'wors', 'custom', 'servic', 'even', 'attempt', 'solv', 'problem', 'check', 'even', 'could', 'see', 'mistak', 'made', 'system', '', 'compound', 'unabl', 'investig', 'simpl', 'claim', '', 'refund', '150', 'pound', '15', 'month', ''], ['travel', 'lisbon', 'dream', 'vacat', '', 'cruis', 'portug', 'spain', '', 'friend', 'ever', 'get', 'luggag', '', 'two', 'week', 'cruis', '', 'two', 'week', 'without', 'chang', 'cloth', 'cpap', 'machin', '', 'contact', 'custom', 'servic', 'nightmar', '', 'never', 'talk', 'real', 'person', '', 'littl', 'effort', 'put', 'get', 'bag', '', 'one', 'port', 'ship', 'bag', 'airport', '', 'airlin', 'deliv', 'bag', 'tell', 'friend', 'need', 'go', 'get', '', 'airlin', '’', 'bother', 'take', 'bag', 'airport', 'ship', '', 'ba', 'say', 'polici', 'get', 'bag', 'within', '72', 'hour', '', 'joke', '', '’', 'two', 'week', 'still', '’', '', 'back', 'home', 'us', 'last', 'heard', 'bag', 'lisbon', '', 'choic', '', 'fli', 'british', 'airway', '', 'custom', 'servic', 'non', 'exist', ''], ['book', 'flight', 'bucharest', 'manchest', '2h', '45', '’', 'layov', 'heathrow', '', 'flight', 'delay', 'bucharest', 'atc', 'strike', '', 'arriv', 'heathrow', '40', 'minut', 'later', 'schedul', 'still', 'enough', 'time', 'catch', 'connect', 'flight', '', 'unfortun', 'strand', 'plane', 'wait', 'long', 'time', 'disembark', 'plane', 'due', 'lack', 'staff', 'slot', 'shortag', '', '’', 'common', 'problem', 'ba', 'heathrow', '', '', 'miss', 'connect', 'flight', 'delay', 'told', 'wait', 'night', 'freez', 'airport', 'first', 'flight', 'next', 'day', '', 'shame', '10£', 'food', 'voucher', 'joke', 'consid', 'ridicul', 'price', 'lhr', '', 'accommod', 'offer', 'sleep', 'cold', 'airport', '', 'ask', 'compens', 'sent', 'long', 'text', 'lame', 'excus', 'sorri', '', 'compens', 'anyth', '', '’', 'imagin', 'worst', 'airlin', 'ba', 'regard', 'custom', 'care', '', 'money', 'rather', 'way', 'treat', 'custom', '', 'last', 'time', 'lifetim', 'fli', 'joke', 'airlin', ''], ['book', 'onlin', 'month', 'ago', 'hitch', 'replac', 'aircraft', 'mean', 'chosen', 'seat', 'differ', '', 'inform', 'prior', 'departur', 'could', 'amend', '', 'bag', 'drop', 'man', 't3', 'nt', 'smooth', 'suspect', 'man', 'fault', '', 'shuttl', 'board', 'slow', 'delay', 'mean', 'rush', 'lhr', 't5', '', 'flight', 'cpt', 'full', 'left', 'less', 'time', '', 'cabin', 'clean', 'pe', 'expect', '', 'suffici', 'leg', 'arm', 'room', 'plu', 'littl', 'perk', 'drink', '', 'complaint', 'seat', 'actual', 'reclin', 'far', '', 'staff', 'good', 'first', 'hour', 'servic', '', 'especi', 'georg', '', 'food', 'quit', 'tasti', 'one', 'option', 'nt', 'load', '', 'breakfast', 'also', 'quit', 'tasti', 'land', 'time', '', 'fli', 'ointment', 'case', 'arriv', 'late', 'carousel', 'later', 'notic', 'broken', '', 'like', 'cpt', '', 'pleasant', 'surpris', ''], ['flight', 'time', '', 'crew', 'polit', '', 'stori', 'outward', 'flight', '', 'find', 'ba', 'europ', 'gener', 'pretti', 'good', '', 'though', 'regret', 'substitut', 'prosecco', 'champagn', 'list', 'drink', 'buy', 'economi', '', 'mani', 'complaint', 'ba', 'airlin', 'revolv', 'around', 'lost', 'luggag', 'never', 'check', 'bag', '', 'even', 'long', 'trip', ''], ['angri', '', 'disappoint', '', 'unsatisfi', '', 'rout', 'london', 'atlanta', '', 'suitcas', 'board', '', 'therefor', 'land', '', 'comfort', 'safeti', 'reason', '', 'bag', 'alway', 'fli', 'passeng', 'happen', '', 'claim', 'phone', 'call', 'made', 'desk', 'assist', 'answer', 'question', 'unprofession', 'miser', '', 'certainli', '', 'left', 'noth', 'backpack', 'contain', 'snack', '', 'neither', 'cloth', 'anyth', 'els', 'ever', 'provid', 'apolog', '', 'meanwhil', '', 'also', 'told', 'bag', 'would', 'deliv', 'next', '24', 'hour', 'also', 'happen', '', 'british', 'airway', 'great', 'airlin', 'fli', 'organ', '', 'come', 'custom', 'servic', '', 'poor', 'uncertain', '', 'still', 'wait', 'bag', ''], ['infrequ', 'flyer', '', 'british', 'airway', 'alway', 'first', 'choic', '', 'reassur', 'comfort', 'servic', '', 'qualiti', '', 'luggag', 'allow', 'etc', '', 'fact', '’', 'never', 'flown', 'budget', 'airlin', '', 'recent', 'flight', 'chang', 'view', 'caus', 'reflect', 'actual', 'get', 'money', 'ba', '', 'flight', 'around', 'hour', 'delay', 'way', '', 'cabin', 'ground', 'staff', 'servic', 'ok', '', 'facil', '', 'lack', '', 'disappoint', '', 'flight', 'approx', '4', 'half', 'hour', 'thing', 'offer', 'half', 'cup', 'water', 'pour', 'bite', 'size', 'banana', 'slice', 'cake', '', 'fact', 'return', 'journey', '’', 'even', 'offer', 'water', '', 'top', 'ba', 'longer', 'media', 'screen', 'select', 'someth', 'pass', 'time', 'away', '', '’', 'even', 'obligatori', 'flight', 'journey', '', 'wifi', 'poor', '', '’', 'even', 'access', 'shop', '', 'howev', '', 'fee', 'much', 'avail', '', 'explain', 'ba', 'record', 'profit', '£152bn', '', '', 'question', '', 'pay', '', 'sure', 'opt', 'budget', 'airlin', '', 'transpar', 'offer', 'pay', '', 'decid', 'choos', '', 'ba', 'stand', 'basic', 'airway', '’', 'go', 'elsewher', 'get', 'basic', 'cheaper', '']]\n"
     ]
    }
   ],
   "source": [
    "from nltk.stem.porter import PorterStemmer\n",
    "\n",
    "# Initialize the PorterStemmer\n",
    "porter = PorterStemmer()\n",
    "\n",
    "# Use a nested list comprehension to stem each word in each review\n",
    "stemmed = [[porter.stem(word) for word in review] for review in words]\n",
    "\n",
    "# Print the first 10 reviews after stemming\n",
    "print(stemmed[:10])"
   ]
  },
  {
   "cell_type": "markdown",
   "metadata": {},
   "source": [
    "Another approach is to use lemmatization instead of stemming. Lemmatization is a more sophisticated process that considers the context and part of speech of a word. It uses a vocabulary and morphological analysis of words to return the base or dictionary form of a word, which is known as the lemma."
   ]
  },
  {
   "cell_type": "code",
   "execution_count": 71,
   "metadata": {},
   "outputs": [
    {
     "name": "stderr",
     "output_type": "stream",
     "text": [
      "[nltk_data] Downloading package wordnet to\n",
      "[nltk_data]     C:\\Users\\ASUS\\AppData\\Roaming\\nltk_data...\n",
      "[nltk_data]   Package wordnet is already up-to-date!\n"
     ]
    },
    {
     "name": "stdout",
     "output_type": "stream",
     "text": [
      "[['4', 'hour', 'takeoff', 'received', 'mail', 'stating', 'cryptic', 'message', 'disruption', 'expected', 'limit', 'many', 'plane', 'leave', 'time', '', 'capacity', 'heathrow', 'airport', 'really', 'hit', 'british', 'airway', 'surprise', '', '4h', 'departure', '', 'anyhow', '', 'took', 'one', 'hour', 'delay', '', 'forced', 'check', 'hand', 'luggage', '', 'travel', 'hand', 'luggage', 'avoid', 'waiting', 'ultra', 'slow', 'processing', 'checked', 'luggage', '', 'overall', '2h', 'later', 'home', 'planed', '', 'really', 'reason', '', 'due', 'incompetent', 'people', '', 'service', 'level', 'far', 'worse', 'ryanair', 'triple', 'price', '', 'really', 'never', '', 'thanks', 'nothing', ''], ['recently', 'delay', 'british', 'airway', 'bru', 'lhr', 'due', 'staff', 'shortage', '', 'announced', '2', 'hour', 'holding', 'delay', 'would', 'board', 'u', 'immediately', 'hope', 'clearing', 'gate', 'leaving', 'early', '', 'wait', 'full', '2', 'hour', 'inside', 'airplane', '', 'plane', 'old', '', 'dirty', '', 'power', 'seat', '', 'staff', 'provided', 'small', 'bag', 'pretzel', '250ml', 'water', 'passenger', '2', 'hour', 'delay', '2', 'hour', 'flight', '', 'option', 'purchase', 'food', 'drink', '', 'entertainment', 'option', 'available', '', 'oneworld', 'emerald', 'elite', 'member', 'upgrade', 'member', 'based', 'status', '', 'first', 'class', 'lounge', 'heathrow', 'overcrowded', '', 'understaffed', 'poorly', 'equipped', '', 'help', 'desk', 'completely', 'unhelpful', 'error', 'arises', 'delay', 'cancellation', '', 'even', 'top', 'status', '', 'avios', 'point', 'system', 'devalued', 'near', 'worthlessness', 'requires', 'fee', 'book', 'reward', 'nearly', 'equal', 'price', 'revenue', 'ticket', '', 'british', 'lost', 'way', 'recent', 'year', 'moved', 'worldclass', 'airline', 'budget', 'airline', 'much', 'worse', 'service', 'timeliness', 'ryanair', 'easyjet', ''], ['boarded', 'time', '', 'took', 'age', 'get', 'runway', 'due', 'congestion', '', 'flight', 'smooth', 'quick', '', 'snack', 'drink', 'good', 'short', 'flight', '', 'landed', 'ten', 'minute', 'late', '', 'one', 'bag', 'three', 'left', 'london', '', 'form', 'quickly', 'filled', '', 'bag', 'delivered', 'next', 'morning', ''], ['5', 'day', 'flight', '', 'advised', 'ba', 'cancelled', 'asked', 'u', 'rebook', '', 'flight', '1', 'hour', '1', 'hour', 'original', 'flight', 'made', 'u', 'take', 'one', '3', 'hour', 'earlier', '', 'original', 'ticket', '', 'return', 'flight', 'week', 'later', '', 'included', 'checked', 'bag', '', 'arrive', 'heathrow', 'check', 'told', 'ticket', 'nt', 'included', 'bag', 'pay', '75', 'pound', 'take', '', 'explained', 'original', 'ticket', 'bag', 'checked', 'system', 'confirmed', 'one', '', 'would', 'make', 'effort', 'sort', 'told', 'u', 'pay', 'would', 'remove', 'u', 'flight', '', 'choice', 'pay', '', 'thinking', 'pretty', 'easy', 'get', 'refund', '', '15', 'month', '10', 'email', 'later', 'still', 'seen', 'penny', '', 'every', 'time', 'ask', 'refund', 'state', 'long', 'waiting', 'get', 'inane', 'email', 'saying', 'department', 'take', 'longer', 'others', 'respond', '', 'absolutely', 'hopeless', 'airline', 'stuff', 'booking', 'first', 'place', 'even', 'worse', 'customer', 'service', 'even', 'attempt', 'solve', 'problem', 'check', 'even', 'could', 'see', 'mistake', 'made', 'system', '', 'compounded', 'unable', 'investigate', 'simple', 'claim', '', 'refund', '150', 'pound', '15', 'month', ''], ['traveled', 'lisbon', 'dream', 'vacation', '', 'cruise', 'portugal', 'spain', '', 'friend', 'ever', 'get', 'luggage', '', 'two', 'week', 'cruise', '', 'two', 'week', 'without', 'change', 'clothes', 'cpap', 'machine', '', 'contacting', 'customer', 'service', 'nightmare', '', 'never', 'talked', 'real', 'person', '', 'little', 'effort', 'put', 'getting', 'bag', '', 'one', 'port', 'ship', 'bag', 'airport', '', 'airline', 'deliver', 'bag', 'tell', 'friend', 'needed', 'go', 'get', '', 'airline', '’', 'bothered', 'take', 'bag', 'airport', 'ship', '', 'ba', 'say', 'policy', 'get', 'bag', 'within', '72', 'hour', '', 'joke', '', '’', 'two', 'week', 'still', '’', '', 'back', 'home', 'u', 'last', 'heard', 'bag', 'lisbon', '', 'choice', '', 'fly', 'british', 'airway', '', 'customer', 'service', 'non', 'existent', ''], ['booked', 'flight', 'bucharest', 'manchester', '2h', '45', '’', 'layover', 'heathrow', '', 'flight', 'delayed', 'bucharest', 'atc', 'strike', '', 'arrived', 'heathrow', '40', 'minute', 'later', 'scheduled', 'still', 'enough', 'time', 'catch', 'connecting', 'flight', '', 'unfortunately', 'stranded', 'plane', 'waited', 'long', 'time', 'disembark', 'plane', 'due', 'lack', 'staff', 'slot', 'shortage', '', '’', 'common', 'problem', 'ba', 'heathrow', '', '', 'missed', 'connecting', 'flight', 'delay', 'told', 'wait', 'night', 'freezing', 'airport', 'first', 'flight', 'next', 'day', '', 'shameful', '10£', 'food', 'voucher', 'joke', 'considering', 'ridiculous', 'price', 'lhr', '', 'accommodation', 'offered', 'sleep', 'cold', 'airport', '', 'asked', 'compensation', 'sent', 'long', 'text', 'lame', 'excuse', 'sorry', '', 'compensate', 'anything', '', '’', 'imagine', 'worst', 'airline', 'ba', 'regarding', 'customer', 'care', '', 'money', 'rather', 'way', 'treat', 'customer', '', 'last', 'time', 'lifetime', 'flying', 'joke', 'airline', ''], ['booked', 'online', 'month', 'ago', 'hitch', 'replacement', 'aircraft', 'meaning', 'chosen', 'seat', 'different', '', 'informed', 'prior', 'departure', 'could', 'amend', '', 'bag', 'drop', 'man', 't3', 'nt', 'smooth', 'suspect', 'man', 'fault', '', 'shuttle', 'boarding', 'slow', 'delayed', 'meaning', 'rush', 'lhr', 't5', '', 'flight', 'cpt', 'full', 'left', 'le', 'time', '', 'cabin', 'clean', 'pe', 'expected', '', 'sufficient', 'leg', 'arm', 'room', 'plus', 'little', 'perk', 'drink', '', 'complaint', 'seat', 'actually', 'recline', 'far', '', 'staff', 'good', 'first', 'hour', 'service', '', 'especially', 'george', '', 'food', 'quite', 'tasty', 'one', 'option', 'nt', 'loaded', '', 'breakfast', 'also', 'quite', 'tasty', 'landed', 'time', '', 'fly', 'ointment', 'case', 'arrived', 'late', 'carousel', 'later', 'notice', 'broken', '', 'likely', 'cpt', '', 'pleasant', 'surprise', ''], ['flight', 'time', '', 'crew', 'polite', '', 'story', 'outward', 'flight', '', 'find', 'ba', 'europe', 'generally', 'pretty', 'good', '', 'though', 'regret', 'substituted', 'prosecco', 'champagne', 'list', 'drink', 'buy', 'economy', '', 'many', 'complaint', 'ba', 'airline', 'revolve', 'around', 'lost', 'luggage', 'never', 'check', 'bag', '', 'even', 'long', 'trip', ''], ['angry', '', 'disappointed', '', 'unsatisfied', '', 'route', 'london', 'atlanta', '', 'suitcase', 'boarded', '', 'therefore', 'landed', '', 'comfort', 'safety', 'reason', '', 'bag', 'always', 'fly', 'passenger', 'happen', '', 'claim', 'phone', 'call', 'made', 'desk', 'assistant', 'answered', 'question', 'unprofessionally', 'miserably', '', 'certainly', '', 'left', 'nothing', 'backpack', 'contained', 'snack', '', 'neither', 'clothes', 'anything', 'else', 'ever', 'provided', 'apology', '', 'meanwhile', '', 'also', 'told', 'bag', 'would', 'delivered', 'next', '24', 'hour', 'also', 'happen', '', 'british', 'airway', 'great', 'airline', 'fly', 'organization', '', 'come', 'customer', 'service', '', 'poor', 'uncertain', '', 'still', 'waiting', 'bag', ''], ['infrequent', 'flyer', '', 'british', 'airway', 'always', 'first', 'choice', '', 'reassurance', 'comfort', 'service', '', 'quality', '', 'luggage', 'allowance', 'etc', '', 'fact', '’', 'never', 'flown', 'budget', 'airline', '', 'recent', 'flight', 'changed', 'view', 'cause', 'reflect', 'actually', 'getting', 'money', 'ba', '', 'flight', 'around', 'hour', 'delayed', 'way', '', 'cabin', 'ground', 'staff', 'service', 'ok', '', 'facility', '', 'lack', '', 'disappointed', '', 'flight', 'approx', '4', 'half', 'hour', 'thing', 'offered', 'half', 'cup', 'water', 'poured', 'bite', 'sized', 'banana', 'slice', 'cake', '', 'fact', 'return', 'journey', '’', 'even', 'offered', 'water', '', 'top', 'ba', 'longer', 'medium', 'screen', 'select', 'something', 'pas', 'time', 'away', '', '’', 'even', 'obligatory', 'flight', 'journey', '', 'wifi', 'poor', '', '’', 'even', 'access', 'shop', '', 'however', '', 'fee', 'much', 'available', '', 'explains', 'ba', 'record', 'profit', '£152bn', '', '', 'question', '', 'paying', '', 'sure', 'opt', 'budget', 'airline', '', 'transparent', 'offer', 'pay', '', 'decide', 'choose', '', 'ba', 'stand', 'basic', 'airway', '’', 'go', 'elsewhere', 'get', 'basic', 'cheaper', '']]\n"
     ]
    }
   ],
   "source": [
    "# Download the 'wordnet' resource for lemmatization\n",
    "nltk.download('wordnet')\n",
    "from nltk.stem import WordNetLemmatizer\n",
    "\n",
    "# Initialize the WordNetLemmatizer\n",
    "lemmatizer = WordNetLemmatizer()\n",
    "\n",
    "# Use a nested list comprehension to lemmatize each word in each review\n",
    "lemmatized = [[lemmatizer.lemmatize(word) for word in review] for review in words]\n",
    "\n",
    "# Print the first 10 reviews after lemmatization\n",
    "print(lemmatized[:10])"
   ]
  }
 ],
 "metadata": {
  "kernelspec": {
   "display_name": "base",
   "language": "python",
   "name": "python3"
  },
  "language_info": {
   "codemirror_mode": {
    "name": "ipython",
    "version": 3
   },
   "file_extension": ".py",
   "mimetype": "text/x-python",
   "name": "python",
   "nbconvert_exporter": "python",
   "pygments_lexer": "ipython3",
   "version": "3.10.9"
  }
 },
 "nbformat": 4,
 "nbformat_minor": 2
}
